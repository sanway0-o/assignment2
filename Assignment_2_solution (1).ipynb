{
 "cells": [
  {
   "cell_type": "raw",
   "id": "719569ab",
   "metadata": {},
   "source": [
    "1.Two values of the boolen data types are True and False. We have to use capital T and F and with the rest of the word in lowercase. The type() of both False and True is bool. \n",
    "The type bool is built in, meaning it’s always available in Python and doesn’t need to be imported. However, the name itself isn’t a keyword in the language.\n",
    "Example is given below:"
   ]
  },
  {
   "cell_type": "code",
   "execution_count": 1,
   "id": "a4522fc3",
   "metadata": {},
   "outputs": [
    {
     "name": "stdout",
     "output_type": "stream",
     "text": [
      "True <class 'bool'>\n",
      "False <class 'bool'>\n"
     ]
    }
   ],
   "source": [
    "a=True\n",
    "b=False\n",
    "print(a,type(a))\n",
    "print(b,type(b))"
   ]
  },
  {
   "cell_type": "raw",
   "id": "78d2ec24",
   "metadata": {},
   "source": [
    "2.  Boolean operators form the basis of mathematical sets and database logic. They connect our search words together to either narrow or broaden our set of results.The three differnt types of Boolean operators in python are:\n",
    "    are, and, not.\n",
    "Example is shown below:--"
   ]
  },
  {
   "cell_type": "code",
   "execution_count": 2,
   "id": "0e725dbc",
   "metadata": {},
   "outputs": [
    {
     "name": "stdout",
     "output_type": "stream",
     "text": [
      "True\n",
      "True\n",
      "False\n"
     ]
    }
   ],
   "source": [
    "a=1000\n",
    "b=2000\n",
    "print(a>500 and b>1000) # Example of boolean and\n",
    "print(a>200 or b>1000) # Example of boolean or\n",
    "print(not(a>11)) # Example of boolean not"
   ]
  },
  {
   "cell_type": "raw",
   "id": "4ce42949",
   "metadata": {},
   "source": [
    "3. List of each Boolean operator's truth table:\n",
    "\n",
    " ##Truth Table for AND operator:\n",
    "   \n",
    "    True and True is True.\n",
    "\n",
    "    True and False is False.\n",
    "\n",
    "    False and True is False.\n",
    "\n",
    "    False and False is False.\n",
    "    \n",
    " ##Truth Table for or operator:\n",
    "   \n",
    "    True or True is True.\n",
    "\n",
    "    True or False is True.\n",
    "\n",
    "    False or True is True.\n",
    "\n",
    "    False or False is False.\n",
    "    \n",
    " ##Truth Table for not operator:\n",
    "   \n",
    "    not True is False.\n",
    "\n",
    "    not False is True. "
   ]
  },
  {
   "cell_type": "code",
   "execution_count": 2,
   "id": "386a6381",
   "metadata": {},
   "outputs": [
    {
     "name": "stdout",
     "output_type": "stream",
     "text": [
      "False\n",
      "False\n",
      "True\n",
      "False\n",
      "False\n",
      "True\n"
     ]
    }
   ],
   "source": [
    "4.\n",
    "print((5>4)and(3==5)) # False\n",
    "print(not(5>4)) # False\n",
    "print((5>4)or(3==5)) # True\n",
    "print(not((5>4)or(3==5))) # False\n",
    "print((True and True)and(True==False)) # False\n",
    "print((not False)or(not True)) # True"
   ]
  },
  {
   "cell_type": "raw",
   "id": "001ba20a",
   "metadata": {},
   "source": [
    "5. The six comparison operators are :\n",
    "    ==, !=, <, >, <=, and >="
   ]
  },
  {
   "cell_type": "raw",
   "id": "f0dca614",
   "metadata": {},
   "source": [
    "6. \"==\" is the equal to operator that compares two values and evaluates to a Boolean, while \"=\" is the assignment operator that stores a value in a variable.\n",
    "It is elaborated using the example below:--"
   ]
  },
  {
   "cell_type": "code",
   "execution_count": 3,
   "id": "4b7ed39c",
   "metadata": {},
   "outputs": [
    {
     "name": "stdout",
     "output_type": "stream",
     "text": [
      "False\n"
     ]
    }
   ],
   "source": [
    "b=10 # Assigning operator that stores 3 value in a variable a\n",
    "if b==10:#comparing values of a varible value and 3\n",
    "    print(b==3) "
   ]
  },
  {
   "cell_type": "raw",
   "id": "026535fd",
   "metadata": {},
   "source": [
    "7.  In Python, code block refers to a collection of code that is in the same block or indent. This is most commonly found in classes, functions, and loops. Answer for the question is:"
   ]
  },
  {
   "cell_type": "code",
   "execution_count": 4,
   "id": "9da5d190",
   "metadata": {},
   "outputs": [
    {
     "name": "stdout",
     "output_type": "stream",
     "text": [
      "ham\n",
      "spam\n",
      "spam\n"
     ]
    }
   ],
   "source": [
    "spam = 0  \n",
    "if spam == 10:  \n",
    "    print('eggs')  # block #1\n",
    "if spam > 5:  \n",
    "    print('bacon')  # block #2\n",
    "else:  \n",
    "    print('ham')  # block #3\n",
    "print('spam')  \n",
    "print('spam')"
   ]
  },
  {
   "cell_type": "code",
   "execution_count": 37,
   "id": "0206f454",
   "metadata": {},
   "outputs": [
    {
     "name": "stdout",
     "output_type": "stream",
     "text": [
      "Greetings!\n",
      "Hello\n",
      "Howdy\n"
     ]
    }
   ],
   "source": [
    "8. ##The code is given below:\n",
    "def code(spam):\n",
    "    if spam == 1:\n",
    "        print('Hello')\n",
    "    elif spam == 2:\n",
    "        print('Howdy')\n",
    "    else:\n",
    "        print('Greetings!')\n",
    "code(6)\n",
    "code(1)\n",
    "code(2)"
   ]
  },
  {
   "cell_type": "raw",
   "id": "898b857f",
   "metadata": {},
   "source": [
    "9. To stop a program stuck in an infinite loop, we press CTRL-C"
   ]
  },
  {
   "cell_type": "raw",
   "id": "80a0632c",
   "metadata": {},
   "source": [
    "10. The break statement will move the execution outside the loop if break condtion is satisfied whereas the continue statement will move the execution to the start of the loop. Example of break and continue is mentioned below:"
   ]
  },
  {
   "cell_type": "code",
   "execution_count": 15,
   "id": "073d0abf",
   "metadata": {},
   "outputs": [
    {
     "name": "stdout",
     "output_type": "stream",
     "text": [
      "s\n",
      "p\n",
      "r\n",
      "The end\n"
     ]
    }
   ],
   "source": [
    "# Use of break statement inside the loop\n",
    "\n",
    "for val in \"spring\":\n",
    "    if val == \"i\":\n",
    "        break\n",
    "    print(val)\n",
    "\n",
    "print(\"The end\")"
   ]
  },
  {
   "cell_type": "code",
   "execution_count": 38,
   "id": "adea759c",
   "metadata": {},
   "outputs": [
    {
     "name": "stdout",
     "output_type": "stream",
     "text": [
      "s\n",
      "p\n",
      "r\n",
      "n\n",
      "g\n",
      "The end\n"
     ]
    }
   ],
   "source": [
    "# Program to show the use of continue statement inside loops\n",
    "\n",
    "\n",
    "for val in \"spring\":\n",
    "    if val == \"i\":\n",
    "        continue\n",
    "    print(val)\n",
    "\n",
    "print(\"The end\")"
   ]
  },
  {
   "cell_type": "raw",
   "id": "e0d83571",
   "metadata": {},
   "source": [
    "11. The Differences are as follows:\n",
    "\n",
    "    The range(10) call ranges from 0 to 9 (but not including 10), \n",
    "    range(0, 10) explicitly tells the loop to start at 0, and\n",
    "    range(0, 10, 1) explicitly tells the loop to increase the variable by 1 on each iteration.\n",
    "    \n",
    "Each example is shown below :---"
   ]
  },
  {
   "cell_type": "code",
   "execution_count": 19,
   "id": "a4e93a26",
   "metadata": {
    "scrolled": true
   },
   "outputs": [
    {
     "name": "stdout",
     "output_type": "stream",
     "text": [
      "0\n",
      "1\n",
      "2\n",
      "3\n",
      "4\n",
      "5\n",
      "6\n",
      "7\n",
      "8\n",
      "9\n"
     ]
    }
   ],
   "source": [
    "for i in range(10):\n",
    "    print(i)"
   ]
  },
  {
   "cell_type": "code",
   "execution_count": 24,
   "id": "ce5ab267",
   "metadata": {},
   "outputs": [
    {
     "name": "stdout",
     "output_type": "stream",
     "text": [
      "0 1 2 3 4 5 6 7 8 9 \n"
     ]
    }
   ],
   "source": [
    "for i in range(0,10):\n",
    "    print(i,end=\" \")\n",
    "print()"
   ]
  },
  {
   "cell_type": "code",
   "execution_count": 32,
   "id": "be7358a5",
   "metadata": {},
   "outputs": [
    {
     "name": "stdout",
     "output_type": "stream",
     "text": [
      "sum of numbers: 45\n"
     ]
    }
   ],
   "source": [
    "sum=0\n",
    "for i in range(0,10,1):\n",
    "    sum+=i\n",
    "print(\"sum of numbers:\",sum)"
   ]
  },
  {
   "cell_type": "code",
   "execution_count": 36,
   "id": "15538cd8",
   "metadata": {},
   "outputs": [
    {
     "name": "stdout",
     "output_type": "stream",
     "text": [
      "example using for loop:\n",
      "1 2 3 4 5 6 7 8 9 10 \n",
      "\n",
      "example using while loop:\n",
      "1 2 3 4 5 6 7 8 9 10 "
     ]
    }
   ],
   "source": [
    "#12. the code is given below-\n",
    "print(\"example using for loop:\")\n",
    "for i in range(1, 11):\n",
    "    print(i,end=\" \")\n",
    "print(\"\\n\")\n",
    "print(\"example using while loop:\")\n",
    "i = 1\n",
    "while i <= 10:\n",
    "    print(i,end=\" \")\n",
    "    i = i + 1"
   ]
  },
  {
   "cell_type": "raw",
   "id": "22628935",
   "metadata": {},
   "source": [
    "13. This function can be called using spam.bacon()."
   ]
  },
  {
   "cell_type": "code",
   "execution_count": null,
   "id": "a2879f84",
   "metadata": {},
   "outputs": [],
   "source": []
  }
 ],
 "metadata": {
  "kernelspec": {
   "display_name": "Python 3 (ipykernel)",
   "language": "python",
   "name": "python3"
  },
  "language_info": {
   "codemirror_mode": {
    "name": "ipython",
    "version": 3
   },
   "file_extension": ".py",
   "mimetype": "text/x-python",
   "name": "python",
   "nbconvert_exporter": "python",
   "pygments_lexer": "ipython3",
   "version": "3.11.3"
  }
 },
 "nbformat": 4,
 "nbformat_minor": 5
}
